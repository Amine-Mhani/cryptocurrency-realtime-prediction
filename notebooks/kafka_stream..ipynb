﻿{
  "metadata": {
    "name": "kafka_stream",
    "kernelspec": {
      "language": "scala",
      "name": "spark2-scala"
    },
    "language_info": {
      "codemirror_mode": "text/x-scala",
      "file_extension": ".scala",
      "mimetype": "text/x-scala",
      "name": "scala",
      "pygments_lexer": "scala"
    }
  },
  "nbformat": 4,
  "nbformat_minor": 2,
  "cells": [
    {
      "cell_type": "code",
      "execution_count": 0,
      "metadata": {
        "autoscroll": "auto"
      },
      "outputs": [],
      "source": "%python\r\nfrom bs4 import BeautifulSoup\r\nimport requests\r\nfrom kafka import KafkaProducer\r\nimport json\r\nfrom datetime import datetime, timedelta\r\n\r\ndef get_table_heading(table):\r\n    \u0027\u0027\u0027Extracting Table Heading From Webpage\u0027\u0027\u0027\r\n\r\n    heading \u003d list()\r\n    thead \u003d table.find(\u0027thead\u0027).find(\u0027tr\u0027).find_all(\u0027th\u0027)[1:7]\r\n    for th in thead:\r\n        heading.append(th.text)\r\n\r\n    return heading\r\n\r\n\r\ndef extract_crypto_data(table):\r\n    \u0027\u0027\u0027Extracting Crypto Data From Table\u0027\u0027\u0027\r\n\r\n    crypto_list \u003d list()\r\n    tbody \u003d table.find(\u0027tbody\u0027).find_all(\u0027tr\u0027)\r\n    for tr in tbody:\r\n        tds \u003d tr.find_all(\u0027td\u0027)[1:7]\r\n\r\n        crypto_list.append((\r\n            tds[0].text,\r\n            tds[1].find(\u0027span\u0027).text,\r\n            tds[2].find(\u0027div\u0027).text,\r\n            tds[3].text,\r\n            tds[4].text,\r\n            tds[5].text,))\r\n\r\n    return crypto_list\r\n\r\n\r\n\r\nurl \u003d \u0027https://crypto.com/price\u0027\r\nresponse \u003d requests.get(url)\r\nsoup \u003d BeautifulSoup(response.text, \u0027html.parser\u0027)\r\ntable \u003d soup.find(\u0027table\u0027)\r\n\r\nheading \u003d get_table_heading(table)\r\ncrypto_data \u003d extract_crypto_data(table)\r\n\r\n# Kafka configuration\r\nbootstrap_servers \u003d \u0027kafka-broker:29092\u0027  # Replace with your Kafka broker\u0027s address\r\n\r\n# Create Kafka producer\r\nproducer \u003d KafkaProducer(bootstrap_servers\u003dbootstrap_servers,\r\n                         value_serializer\u003dlambda v: json.dumps(v).encode(\u0027utf-8\u0027))\r\n\r\ntopic \u003d \u0027source_topic-001\u0027  # Replace with your Kafka topic name\r\n\r\n# Produce data to Kafka topic with adjusted datetime and modified keys\r\nfor data_row in crypto_data:\r\n    data_dict \u003d dict(zip(heading, data_row))\r\n    data_dict.pop(\u0027#\u0027, None)  # Remove \u0027#\u0027 field if present\r\n    adjusted_datetime \u003d datetime.now() + timedelta(hours\u003d1)  # Subtract an hour from current datetime\r\n    data_dict[\u0027Datetime\u0027] \u003d adjusted_datetime.isoformat()  # Add adjusted datetime\r\n    \r\n    # Modify keys with spaces to use underscores\r\n    modified_data_dict \u003d {key.replace(\u0027 \u0027, \u0027_\u0027): value for key, value in data_dict.items()}\r\n    \r\n    producer.send(topic, value\u003dmodified_data_dict)\r\nprint(modified_data_dict)\r\n# Close the producer\r\nproducer.close()"
    }
  ]
}